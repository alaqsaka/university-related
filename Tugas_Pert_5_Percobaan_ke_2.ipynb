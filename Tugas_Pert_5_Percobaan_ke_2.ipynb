{
  "nbformat": 4,
  "nbformat_minor": 0,
  "metadata": {
    "colab": {
      "name": "Tugas Pert 5 Percobaan ke-2.ipynb",
      "provenance": [],
      "authorship_tag": "ABX9TyMrwHsqCPh2sReKJiXIXQiZ",
      "include_colab_link": true
    },
    "kernelspec": {
      "name": "python3",
      "display_name": "Python 3"
    },
    "language_info": {
      "name": "python"
    }
  },
  "cells": [
    {
      "cell_type": "markdown",
      "metadata": {
        "id": "view-in-github",
        "colab_type": "text"
      },
      "source": [
        "<a href=\"https://colab.research.google.com/github/alaqsaka/university-related/blob/PrakDataMining/Tugas_Pert_5_Percobaan_ke_2.ipynb\" target=\"_parent\"><img src=\"https://colab.research.google.com/assets/colab-badge.svg\" alt=\"Open In Colab\"/></a>"
      ]
    },
    {
      "cell_type": "code",
      "metadata": {
        "id": "B2kzlD9XJtd9"
      },
      "source": [
        "import pandas as pd\n",
        "csv_path = '/content/hepatitis_praproses.csv'"
      ],
      "execution_count": 590,
      "outputs": []
    },
    {
      "cell_type": "code",
      "metadata": {
        "colab": {
          "base_uri": "https://localhost:8080/",
          "height": 240
        },
        "id": "shuCB6N7KAQy",
        "outputId": "8ee10b80-3ac7-4710-df41-fd12063bd384"
      },
      "source": [
        "df = pd.read_csv(csv_path)\n",
        "df.head()"
      ],
      "execution_count": 591,
      "outputs": [
        {
          "output_type": "execute_result",
          "data": {
            "text/html": [
              "<div>\n",
              "<style scoped>\n",
              "    .dataframe tbody tr th:only-of-type {\n",
              "        vertical-align: middle;\n",
              "    }\n",
              "\n",
              "    .dataframe tbody tr th {\n",
              "        vertical-align: top;\n",
              "    }\n",
              "\n",
              "    .dataframe thead th {\n",
              "        text-align: right;\n",
              "    }\n",
              "</style>\n",
              "<table border=\"1\" class=\"dataframe\">\n",
              "  <thead>\n",
              "    <tr style=\"text-align: right;\">\n",
              "      <th></th>\n",
              "      <th>Unnamed: 0</th>\n",
              "      <th>Class</th>\n",
              "      <th>AGE</th>\n",
              "      <th>SEX</th>\n",
              "      <th>STEROID</th>\n",
              "      <th>ANTIVIRALS</th>\n",
              "      <th>FATIGUE</th>\n",
              "      <th>MALAISE</th>\n",
              "      <th>ANOREXIA</th>\n",
              "      <th>LIVER BIG</th>\n",
              "      <th>LIVER FIRM</th>\n",
              "      <th>SPLEEN ALPABLE</th>\n",
              "      <th>SPIDERS</th>\n",
              "      <th>ASCITES</th>\n",
              "      <th>VARICES</th>\n",
              "      <th>BILIRUBIN</th>\n",
              "      <th>ALK PHOSPHATE</th>\n",
              "      <th>SGOT</th>\n",
              "      <th>ALBUMIN</th>\n",
              "      <th>PROTIME</th>\n",
              "      <th>HISTOLOGY</th>\n",
              "    </tr>\n",
              "  </thead>\n",
              "  <tbody>\n",
              "    <tr>\n",
              "      <th>0</th>\n",
              "      <td>0</td>\n",
              "      <td>2</td>\n",
              "      <td>0.323944</td>\n",
              "      <td>2</td>\n",
              "      <td>1</td>\n",
              "      <td>2</td>\n",
              "      <td>2</td>\n",
              "      <td>2</td>\n",
              "      <td>2</td>\n",
              "      <td>1</td>\n",
              "      <td>2</td>\n",
              "      <td>2</td>\n",
              "      <td>2</td>\n",
              "      <td>2</td>\n",
              "      <td>2</td>\n",
              "      <td>0.090909</td>\n",
              "      <td>0.219331</td>\n",
              "      <td>0.006309</td>\n",
              "      <td>0.441860</td>\n",
              "      <td>0.618523</td>\n",
              "      <td>1</td>\n",
              "    </tr>\n",
              "    <tr>\n",
              "      <th>1</th>\n",
              "      <td>1</td>\n",
              "      <td>2</td>\n",
              "      <td>0.605634</td>\n",
              "      <td>1</td>\n",
              "      <td>1</td>\n",
              "      <td>2</td>\n",
              "      <td>1</td>\n",
              "      <td>2</td>\n",
              "      <td>2</td>\n",
              "      <td>1</td>\n",
              "      <td>2</td>\n",
              "      <td>2</td>\n",
              "      <td>2</td>\n",
              "      <td>2</td>\n",
              "      <td>2</td>\n",
              "      <td>0.077922</td>\n",
              "      <td>0.405204</td>\n",
              "      <td>0.044164</td>\n",
              "      <td>0.325581</td>\n",
              "      <td>0.618523</td>\n",
              "      <td>1</td>\n",
              "    </tr>\n",
              "    <tr>\n",
              "      <th>2</th>\n",
              "      <td>2</td>\n",
              "      <td>2</td>\n",
              "      <td>1.000000</td>\n",
              "      <td>1</td>\n",
              "      <td>2</td>\n",
              "      <td>2</td>\n",
              "      <td>1</td>\n",
              "      <td>2</td>\n",
              "      <td>2</td>\n",
              "      <td>2</td>\n",
              "      <td>2</td>\n",
              "      <td>2</td>\n",
              "      <td>2</td>\n",
              "      <td>2</td>\n",
              "      <td>2</td>\n",
              "      <td>0.051948</td>\n",
              "      <td>0.260223</td>\n",
              "      <td>0.028391</td>\n",
              "      <td>0.441860</td>\n",
              "      <td>0.618523</td>\n",
              "      <td>1</td>\n",
              "    </tr>\n",
              "    <tr>\n",
              "      <th>3</th>\n",
              "      <td>3</td>\n",
              "      <td>2</td>\n",
              "      <td>0.338028</td>\n",
              "      <td>1</td>\n",
              "      <td>2</td>\n",
              "      <td>1</td>\n",
              "      <td>2</td>\n",
              "      <td>2</td>\n",
              "      <td>2</td>\n",
              "      <td>2</td>\n",
              "      <td>2</td>\n",
              "      <td>2</td>\n",
              "      <td>2</td>\n",
              "      <td>2</td>\n",
              "      <td>2</td>\n",
              "      <td>0.051948</td>\n",
              "      <td>0.074349</td>\n",
              "      <td>0.059937</td>\n",
              "      <td>0.441860</td>\n",
              "      <td>0.800000</td>\n",
              "      <td>1</td>\n",
              "    </tr>\n",
              "    <tr>\n",
              "      <th>4</th>\n",
              "      <td>4</td>\n",
              "      <td>2</td>\n",
              "      <td>0.380282</td>\n",
              "      <td>1</td>\n",
              "      <td>2</td>\n",
              "      <td>2</td>\n",
              "      <td>2</td>\n",
              "      <td>2</td>\n",
              "      <td>2</td>\n",
              "      <td>2</td>\n",
              "      <td>2</td>\n",
              "      <td>2</td>\n",
              "      <td>2</td>\n",
              "      <td>2</td>\n",
              "      <td>2</td>\n",
              "      <td>0.090909</td>\n",
              "      <td>0.294890</td>\n",
              "      <td>0.293375</td>\n",
              "      <td>0.441860</td>\n",
              "      <td>0.618523</td>\n",
              "      <td>1</td>\n",
              "    </tr>\n",
              "  </tbody>\n",
              "</table>\n",
              "</div>"
            ],
            "text/plain": [
              "   Unnamed: 0  Class       AGE  SEX  ...      SGOT   ALBUMIN   PROTIME  HISTOLOGY\n",
              "0           0      2  0.323944    2  ...  0.006309  0.441860  0.618523          1\n",
              "1           1      2  0.605634    1  ...  0.044164  0.325581  0.618523          1\n",
              "2           2      2  1.000000    1  ...  0.028391  0.441860  0.618523          1\n",
              "3           3      2  0.338028    1  ...  0.059937  0.441860  0.800000          1\n",
              "4           4      2  0.380282    1  ...  0.293375  0.441860  0.618523          1\n",
              "\n",
              "[5 rows x 21 columns]"
            ]
          },
          "metadata": {},
          "execution_count": 591
        }
      ]
    },
    {
      "cell_type": "code",
      "metadata": {
        "colab": {
          "base_uri": "https://localhost:8080/",
          "height": 203
        },
        "id": "gglzOKxUKEwq",
        "outputId": "64e759bb-e405-40bb-d484-b29217bfacc9"
      },
      "source": [
        "df.drop('Unnamed: 0', inplace=True, axis=1)\n",
        "# Menghapus kolom yang bukan kategorikal\n",
        "\n",
        "del df['AGE']\n",
        "del df['BILIRUBIN']\n",
        "del df['ALK PHOSPHATE']\n",
        "del df['SGOT']\n",
        "del df['ALBUMIN']\n",
        "del df['PROTIME']\n",
        "\n",
        "df.head()"
      ],
      "execution_count": 592,
      "outputs": [
        {
          "output_type": "execute_result",
          "data": {
            "text/html": [
              "<div>\n",
              "<style scoped>\n",
              "    .dataframe tbody tr th:only-of-type {\n",
              "        vertical-align: middle;\n",
              "    }\n",
              "\n",
              "    .dataframe tbody tr th {\n",
              "        vertical-align: top;\n",
              "    }\n",
              "\n",
              "    .dataframe thead th {\n",
              "        text-align: right;\n",
              "    }\n",
              "</style>\n",
              "<table border=\"1\" class=\"dataframe\">\n",
              "  <thead>\n",
              "    <tr style=\"text-align: right;\">\n",
              "      <th></th>\n",
              "      <th>Class</th>\n",
              "      <th>SEX</th>\n",
              "      <th>STEROID</th>\n",
              "      <th>ANTIVIRALS</th>\n",
              "      <th>FATIGUE</th>\n",
              "      <th>MALAISE</th>\n",
              "      <th>ANOREXIA</th>\n",
              "      <th>LIVER BIG</th>\n",
              "      <th>LIVER FIRM</th>\n",
              "      <th>SPLEEN ALPABLE</th>\n",
              "      <th>SPIDERS</th>\n",
              "      <th>ASCITES</th>\n",
              "      <th>VARICES</th>\n",
              "      <th>HISTOLOGY</th>\n",
              "    </tr>\n",
              "  </thead>\n",
              "  <tbody>\n",
              "    <tr>\n",
              "      <th>0</th>\n",
              "      <td>2</td>\n",
              "      <td>2</td>\n",
              "      <td>1</td>\n",
              "      <td>2</td>\n",
              "      <td>2</td>\n",
              "      <td>2</td>\n",
              "      <td>2</td>\n",
              "      <td>1</td>\n",
              "      <td>2</td>\n",
              "      <td>2</td>\n",
              "      <td>2</td>\n",
              "      <td>2</td>\n",
              "      <td>2</td>\n",
              "      <td>1</td>\n",
              "    </tr>\n",
              "    <tr>\n",
              "      <th>1</th>\n",
              "      <td>2</td>\n",
              "      <td>1</td>\n",
              "      <td>1</td>\n",
              "      <td>2</td>\n",
              "      <td>1</td>\n",
              "      <td>2</td>\n",
              "      <td>2</td>\n",
              "      <td>1</td>\n",
              "      <td>2</td>\n",
              "      <td>2</td>\n",
              "      <td>2</td>\n",
              "      <td>2</td>\n",
              "      <td>2</td>\n",
              "      <td>1</td>\n",
              "    </tr>\n",
              "    <tr>\n",
              "      <th>2</th>\n",
              "      <td>2</td>\n",
              "      <td>1</td>\n",
              "      <td>2</td>\n",
              "      <td>2</td>\n",
              "      <td>1</td>\n",
              "      <td>2</td>\n",
              "      <td>2</td>\n",
              "      <td>2</td>\n",
              "      <td>2</td>\n",
              "      <td>2</td>\n",
              "      <td>2</td>\n",
              "      <td>2</td>\n",
              "      <td>2</td>\n",
              "      <td>1</td>\n",
              "    </tr>\n",
              "    <tr>\n",
              "      <th>3</th>\n",
              "      <td>2</td>\n",
              "      <td>1</td>\n",
              "      <td>2</td>\n",
              "      <td>1</td>\n",
              "      <td>2</td>\n",
              "      <td>2</td>\n",
              "      <td>2</td>\n",
              "      <td>2</td>\n",
              "      <td>2</td>\n",
              "      <td>2</td>\n",
              "      <td>2</td>\n",
              "      <td>2</td>\n",
              "      <td>2</td>\n",
              "      <td>1</td>\n",
              "    </tr>\n",
              "    <tr>\n",
              "      <th>4</th>\n",
              "      <td>2</td>\n",
              "      <td>1</td>\n",
              "      <td>2</td>\n",
              "      <td>2</td>\n",
              "      <td>2</td>\n",
              "      <td>2</td>\n",
              "      <td>2</td>\n",
              "      <td>2</td>\n",
              "      <td>2</td>\n",
              "      <td>2</td>\n",
              "      <td>2</td>\n",
              "      <td>2</td>\n",
              "      <td>2</td>\n",
              "      <td>1</td>\n",
              "    </tr>\n",
              "  </tbody>\n",
              "</table>\n",
              "</div>"
            ],
            "text/plain": [
              "   Class  SEX  STEROID  ANTIVIRALS  ...  SPIDERS  ASCITES  VARICES  HISTOLOGY\n",
              "0      2    2        1           2  ...        2        2        2          1\n",
              "1      2    1        1           2  ...        2        2        2          1\n",
              "2      2    1        2           2  ...        2        2        2          1\n",
              "3      2    1        2           1  ...        2        2        2          1\n",
              "4      2    1        2           2  ...        2        2        2          1\n",
              "\n",
              "[5 rows x 14 columns]"
            ]
          },
          "metadata": {},
          "execution_count": 592
        }
      ]
    },
    {
      "cell_type": "markdown",
      "metadata": {
        "id": "pn0bX9C6MH8k"
      },
      "source": [
        "**Menentukan variabel independen dan variabel independen**"
      ]
    },
    {
      "cell_type": "code",
      "metadata": {
        "colab": {
          "base_uri": "https://localhost:8080/"
        },
        "id": "-nEL3X5zMMty",
        "outputId": "917c5299-a3bc-4d4f-b56d-b0b870a846b9"
      },
      "source": [
        "# Variabel independen \n",
        "x = df.drop([\"Class\"], axis = 1)\n",
        "print(\"Variabel independen: \")\n",
        "print(x.head())\n",
        "\n",
        "# Variabel dependen \n",
        "y = df['Class']\n",
        "print(\"Variabel dependen: \")\n",
        "print(y.head())"
      ],
      "execution_count": 593,
      "outputs": [
        {
          "output_type": "stream",
          "name": "stdout",
          "text": [
            "Variabel independen: \n",
            "   SEX  STEROID  ANTIVIRALS  FATIGUE  ...  SPIDERS  ASCITES  VARICES  HISTOLOGY\n",
            "0    2        1           2        2  ...        2        2        2          1\n",
            "1    1        1           2        1  ...        2        2        2          1\n",
            "2    1        2           2        1  ...        2        2        2          1\n",
            "3    1        2           1        2  ...        2        2        2          1\n",
            "4    1        2           2        2  ...        2        2        2          1\n",
            "\n",
            "[5 rows x 13 columns]\n",
            "Variabel dependen: \n",
            "0    2\n",
            "1    2\n",
            "2    2\n",
            "3    2\n",
            "4    2\n",
            "Name: Class, dtype: int64\n"
          ]
        }
      ]
    },
    {
      "cell_type": "markdown",
      "metadata": {
        "id": "15nUpM6CNdqg"
      },
      "source": [
        "**Membagi dataset menjadi dua bagian: data testing (30%) dan data training (70%)**\n"
      ]
    },
    {
      "cell_type": "code",
      "metadata": {
        "id": "3vIicsvcNfFI"
      },
      "source": [
        "# Import train_test_split function\n",
        "from sklearn.model_selection import train_test_split\n",
        "\n",
        "# Split dataset into training set and test set\n",
        "X_train, X_test, y_train, y_test = train_test_split(x, y, test_size=0.3,random_state=109) # 70% training and 30% test"
      ],
      "execution_count": 594,
      "outputs": []
    },
    {
      "cell_type": "code",
      "metadata": {
        "colab": {
          "base_uri": "https://localhost:8080/"
        },
        "id": "Ov8BLcutUduP",
        "outputId": "318bcee2-1c2b-4a77-9593-954395758783"
      },
      "source": [
        "X_train.shape"
      ],
      "execution_count": 595,
      "outputs": [
        {
          "output_type": "execute_result",
          "data": {
            "text/plain": [
              "(108, 13)"
            ]
          },
          "metadata": {},
          "execution_count": 595
        }
      ]
    },
    {
      "cell_type": "code",
      "metadata": {
        "colab": {
          "base_uri": "https://localhost:8080/"
        },
        "id": "rWvHS9ccUftY",
        "outputId": "5279f9c1-c95d-46d1-a3d6-c9e928f1a7cc"
      },
      "source": [
        "y_train.shape"
      ],
      "execution_count": 596,
      "outputs": [
        {
          "output_type": "execute_result",
          "data": {
            "text/plain": [
              "(108,)"
            ]
          },
          "metadata": {},
          "execution_count": 596
        }
      ]
    },
    {
      "cell_type": "code",
      "metadata": {
        "colab": {
          "base_uri": "https://localhost:8080/"
        },
        "id": "zxKtBLa4Uhpg",
        "outputId": "4be9a34b-c490-4982-d498-43f7e54d29b2"
      },
      "source": [
        "X_test.shape"
      ],
      "execution_count": 597,
      "outputs": [
        {
          "output_type": "execute_result",
          "data": {
            "text/plain": [
              "(47, 13)"
            ]
          },
          "metadata": {},
          "execution_count": 597
        }
      ]
    },
    {
      "cell_type": "code",
      "metadata": {
        "colab": {
          "base_uri": "https://localhost:8080/"
        },
        "id": "5czmRDEQUl4p",
        "outputId": "92de010e-eba6-4d0f-b847-a5a3f5636783"
      },
      "source": [
        "y_test.shape"
      ],
      "execution_count": 598,
      "outputs": [
        {
          "output_type": "execute_result",
          "data": {
            "text/plain": [
              "(47,)"
            ]
          },
          "metadata": {},
          "execution_count": 598
        }
      ]
    },
    {
      "cell_type": "markdown",
      "metadata": {
        "id": "acLZsPXUOqOF"
      },
      "source": [
        "**Membuat model latihan dengan menggunakan Gaussian Naive Bayes**"
      ]
    },
    {
      "cell_type": "code",
      "metadata": {
        "id": "f1j_9LS7OzyB"
      },
      "source": [
        "from sklearn.naive_bayes import GaussianNB\n",
        "#buat objek model Naive Bayes\n",
        "\n",
        "model = GaussianNB()"
      ],
      "execution_count": 599,
      "outputs": []
    },
    {
      "cell_type": "markdown",
      "metadata": {
        "id": "ijV3eUa8O7BQ"
      },
      "source": [
        "Selanjutnya, objek tersebut akan dilatih menggunakan data training. \n",
        "Memberikan fitur sebagai input latihan, kelas sebagai prediksinya."
      ]
    },
    {
      "cell_type": "code",
      "metadata": {
        "id": "qsdTH1AlPLWX",
        "colab": {
          "base_uri": "https://localhost:8080/"
        },
        "outputId": "79131c4e-e164-4332-9582-3e2b9eebf5ae"
      },
      "source": [
        "#Latih dengan data\n",
        "model.fit(X_train, y_train)"
      ],
      "execution_count": 600,
      "outputs": [
        {
          "output_type": "execute_result",
          "data": {
            "text/plain": [
              "GaussianNB(priors=None, var_smoothing=1e-09)"
            ]
          },
          "metadata": {},
          "execution_count": 600
        }
      ]
    },
    {
      "cell_type": "code",
      "metadata": {
        "colab": {
          "base_uri": "https://localhost:8080/"
        },
        "id": "Fph0QQAYVHIf",
        "outputId": "6eb859b1-8688-43e5-8998-f4f6544213cf"
      },
      "source": [
        "# Menentukan hasil prediksi dari x_test\n",
        "y_pred = model.predict(X_test)\n",
        "y_pred"
      ],
      "execution_count": 601,
      "outputs": [
        {
          "output_type": "execute_result",
          "data": {
            "text/plain": [
              "array([2, 1, 1, 1, 1, 1, 2, 1, 2, 1, 1, 2, 1, 1, 1, 1, 2, 1, 2, 1, 1, 1,\n",
              "       2, 2, 1, 2, 1, 1, 2, 2, 2, 2, 2, 1, 1, 2, 1, 2, 2, 2, 1, 2, 2, 1,\n",
              "       2, 1, 2])"
            ]
          },
          "metadata": {},
          "execution_count": 601
        }
      ]
    },
    {
      "cell_type": "code",
      "metadata": {
        "colab": {
          "base_uri": "https://localhost:8080/"
        },
        "id": "XKUfMu68VddH",
        "outputId": "9d2bc6b6-ced4-47d3-ae09-42f3324b5047"
      },
      "source": [
        "import numpy as np\n",
        "np.array(y_test)"
      ],
      "execution_count": 602,
      "outputs": [
        {
          "output_type": "execute_result",
          "data": {
            "text/plain": [
              "array([2, 2, 1, 2, 2, 2, 2, 2, 2, 1, 2, 2, 1, 2, 1, 1, 2, 1, 2, 1, 2, 2,\n",
              "       1, 1, 2, 2, 2, 2, 2, 2, 2, 2, 2, 2, 1, 2, 1, 2, 2, 2, 1, 2, 2, 2,\n",
              "       2, 2, 2])"
            ]
          },
          "metadata": {},
          "execution_count": 602
        }
      ]
    },
    {
      "cell_type": "code",
      "metadata": {
        "colab": {
          "base_uri": "https://localhost:8080/"
        },
        "id": "SwdKJYsFV3I-",
        "outputId": "bac61c20-0280-40dc-ccdc-7d97b5421f30"
      },
      "source": [
        "from sklearn.metrics import classification_report\n",
        "print(classification_report(y_test, y_pred))\n"
      ],
      "execution_count": 603,
      "outputs": [
        {
          "output_type": "stream",
          "name": "stdout",
          "text": [
            "              precision    recall  f1-score   support\n",
            "\n",
            "           1       0.40      0.83      0.54        12\n",
            "           2       0.91      0.57      0.70        35\n",
            "\n",
            "    accuracy                           0.64        47\n",
            "   macro avg       0.65      0.70      0.62        47\n",
            "weighted avg       0.78      0.64      0.66        47\n",
            "\n"
          ]
        }
      ]
    },
    {
      "cell_type": "code",
      "metadata": {
        "colab": {
          "base_uri": "https://localhost:8080/"
        },
        "id": "q8krMoahWsjp",
        "outputId": "90bd0f25-0e0d-4e9d-d361-ade5ab9746ce"
      },
      "source": [
        "from sklearn.metrics import accuracy_score \n",
        "accuracy_score(y_test, y_pred)"
      ],
      "execution_count": 604,
      "outputs": [
        {
          "output_type": "execute_result",
          "data": {
            "text/plain": [
              "0.6382978723404256"
            ]
          },
          "metadata": {},
          "execution_count": 604
        }
      ]
    }
  ]
}